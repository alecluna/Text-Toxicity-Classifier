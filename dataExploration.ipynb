{
 "cells": [
  {
   "cell_type": "code",
   "execution_count": 56,
   "metadata": {},
   "outputs": [],
   "source": [
    "import pandas as pd\n",
    "import numpy as np\n",
    "import matplotlib.pyplot as plt\n",
    "import seaborn as sns\n",
    "from pylab import *\n",
    "import warnings\n",
    "warnings.filterwarnings('ignore')\n",
    "%matplotlib inline"
   ]
  },
  {
   "cell_type": "code",
   "execution_count": 58,
   "metadata": {},
   "outputs": [],
   "source": [
    "smallData = False\n",
    "# smallData = True\n",
    "my_chunk_size = 250000"
   ]
  },
  {
   "cell_type": "code",
   "execution_count": 59,
   "metadata": {},
   "outputs": [],
   "source": [
    "if smallData:\n",
    "    train_chunks = pd.read_csv('data/train.csv',  chunksize = my_chunk_size) \n",
    "    train = train_chunks.get_chunk(my_chunk_size)\n",
    "    \n",
    "    test_chunks = pd.read_csv('data/test.csv',  chunksize = my_chunk_size)     \n",
    "    test = test_chunks.get_chunk(my_chunk_size)\n",
    "    \n",
    "else: # Process all the data\n",
    "    train = pd.read_csv('data/train.csv') \n",
    "    test = pd.read_csv('data/test.csv')  "
   ]
  },
  {
   "cell_type": "code",
   "execution_count": 123,
   "metadata": {},
   "outputs": [
    {
     "name": "stdout",
     "output_type": "stream",
     "text": [
      "(1804874, 45)\n"
     ]
    },
    {
     "data": {
      "text/html": [
       "<div>\n",
       "<style scoped>\n",
       "    .dataframe tbody tr th:only-of-type {\n",
       "        vertical-align: middle;\n",
       "    }\n",
       "\n",
       "    .dataframe tbody tr th {\n",
       "        vertical-align: top;\n",
       "    }\n",
       "\n",
       "    .dataframe thead th {\n",
       "        text-align: right;\n",
       "    }\n",
       "</style>\n",
       "<table border=\"1\" class=\"dataframe\">\n",
       "  <thead>\n",
       "    <tr style=\"text-align: right;\">\n",
       "      <th></th>\n",
       "      <th>id</th>\n",
       "      <th>target</th>\n",
       "      <th>comment_text</th>\n",
       "      <th>severe_toxicity</th>\n",
       "      <th>obscene</th>\n",
       "      <th>identity_attack</th>\n",
       "      <th>insult</th>\n",
       "      <th>threat</th>\n",
       "      <th>asian</th>\n",
       "      <th>atheist</th>\n",
       "      <th>...</th>\n",
       "      <th>article_id</th>\n",
       "      <th>rating</th>\n",
       "      <th>funny</th>\n",
       "      <th>wow</th>\n",
       "      <th>sad</th>\n",
       "      <th>likes</th>\n",
       "      <th>disagree</th>\n",
       "      <th>sexual_explicit</th>\n",
       "      <th>identity_annotator_count</th>\n",
       "      <th>toxicity_annotator_count</th>\n",
       "    </tr>\n",
       "  </thead>\n",
       "  <tbody>\n",
       "    <tr>\n",
       "      <th>0</th>\n",
       "      <td>59848</td>\n",
       "      <td>0.000000</td>\n",
       "      <td>This is so cool. It's like, 'would you want yo...</td>\n",
       "      <td>0.000000</td>\n",
       "      <td>0.0</td>\n",
       "      <td>0.000000</td>\n",
       "      <td>0.00000</td>\n",
       "      <td>0.0</td>\n",
       "      <td>NaN</td>\n",
       "      <td>NaN</td>\n",
       "      <td>...</td>\n",
       "      <td>2006</td>\n",
       "      <td>rejected</td>\n",
       "      <td>0</td>\n",
       "      <td>0</td>\n",
       "      <td>0</td>\n",
       "      <td>0</td>\n",
       "      <td>0</td>\n",
       "      <td>0.0</td>\n",
       "      <td>0</td>\n",
       "      <td>4</td>\n",
       "    </tr>\n",
       "    <tr>\n",
       "      <th>1</th>\n",
       "      <td>59849</td>\n",
       "      <td>0.000000</td>\n",
       "      <td>Thank you!! This would make my life a lot less...</td>\n",
       "      <td>0.000000</td>\n",
       "      <td>0.0</td>\n",
       "      <td>0.000000</td>\n",
       "      <td>0.00000</td>\n",
       "      <td>0.0</td>\n",
       "      <td>NaN</td>\n",
       "      <td>NaN</td>\n",
       "      <td>...</td>\n",
       "      <td>2006</td>\n",
       "      <td>rejected</td>\n",
       "      <td>0</td>\n",
       "      <td>0</td>\n",
       "      <td>0</td>\n",
       "      <td>0</td>\n",
       "      <td>0</td>\n",
       "      <td>0.0</td>\n",
       "      <td>0</td>\n",
       "      <td>4</td>\n",
       "    </tr>\n",
       "    <tr>\n",
       "      <th>2</th>\n",
       "      <td>59852</td>\n",
       "      <td>0.000000</td>\n",
       "      <td>This is such an urgent design problem; kudos t...</td>\n",
       "      <td>0.000000</td>\n",
       "      <td>0.0</td>\n",
       "      <td>0.000000</td>\n",
       "      <td>0.00000</td>\n",
       "      <td>0.0</td>\n",
       "      <td>NaN</td>\n",
       "      <td>NaN</td>\n",
       "      <td>...</td>\n",
       "      <td>2006</td>\n",
       "      <td>rejected</td>\n",
       "      <td>0</td>\n",
       "      <td>0</td>\n",
       "      <td>0</td>\n",
       "      <td>0</td>\n",
       "      <td>0</td>\n",
       "      <td>0.0</td>\n",
       "      <td>0</td>\n",
       "      <td>4</td>\n",
       "    </tr>\n",
       "    <tr>\n",
       "      <th>3</th>\n",
       "      <td>59855</td>\n",
       "      <td>0.000000</td>\n",
       "      <td>Is this something I'll be able to install on m...</td>\n",
       "      <td>0.000000</td>\n",
       "      <td>0.0</td>\n",
       "      <td>0.000000</td>\n",
       "      <td>0.00000</td>\n",
       "      <td>0.0</td>\n",
       "      <td>NaN</td>\n",
       "      <td>NaN</td>\n",
       "      <td>...</td>\n",
       "      <td>2006</td>\n",
       "      <td>rejected</td>\n",
       "      <td>0</td>\n",
       "      <td>0</td>\n",
       "      <td>0</td>\n",
       "      <td>0</td>\n",
       "      <td>0</td>\n",
       "      <td>0.0</td>\n",
       "      <td>0</td>\n",
       "      <td>4</td>\n",
       "    </tr>\n",
       "    <tr>\n",
       "      <th>4</th>\n",
       "      <td>59856</td>\n",
       "      <td>0.893617</td>\n",
       "      <td>haha you guys are a bunch of losers.</td>\n",
       "      <td>0.021277</td>\n",
       "      <td>0.0</td>\n",
       "      <td>0.021277</td>\n",
       "      <td>0.87234</td>\n",
       "      <td>0.0</td>\n",
       "      <td>0.0</td>\n",
       "      <td>0.0</td>\n",
       "      <td>...</td>\n",
       "      <td>2006</td>\n",
       "      <td>rejected</td>\n",
       "      <td>0</td>\n",
       "      <td>0</td>\n",
       "      <td>0</td>\n",
       "      <td>1</td>\n",
       "      <td>0</td>\n",
       "      <td>0.0</td>\n",
       "      <td>4</td>\n",
       "      <td>47</td>\n",
       "    </tr>\n",
       "  </tbody>\n",
       "</table>\n",
       "<p>5 rows × 45 columns</p>\n",
       "</div>"
      ],
      "text/plain": [
       "      id    target                                       comment_text  \\\n",
       "0  59848  0.000000  This is so cool. It's like, 'would you want yo...   \n",
       "1  59849  0.000000  Thank you!! This would make my life a lot less...   \n",
       "2  59852  0.000000  This is such an urgent design problem; kudos t...   \n",
       "3  59855  0.000000  Is this something I'll be able to install on m...   \n",
       "4  59856  0.893617               haha you guys are a bunch of losers.   \n",
       "\n",
       "   severe_toxicity  obscene  identity_attack   insult  threat  asian  atheist  \\\n",
       "0         0.000000      0.0         0.000000  0.00000     0.0    NaN      NaN   \n",
       "1         0.000000      0.0         0.000000  0.00000     0.0    NaN      NaN   \n",
       "2         0.000000      0.0         0.000000  0.00000     0.0    NaN      NaN   \n",
       "3         0.000000      0.0         0.000000  0.00000     0.0    NaN      NaN   \n",
       "4         0.021277      0.0         0.021277  0.87234     0.0    0.0      0.0   \n",
       "\n",
       "   ...  article_id    rating  funny  wow  sad  likes  disagree  \\\n",
       "0  ...        2006  rejected      0    0    0      0         0   \n",
       "1  ...        2006  rejected      0    0    0      0         0   \n",
       "2  ...        2006  rejected      0    0    0      0         0   \n",
       "3  ...        2006  rejected      0    0    0      0         0   \n",
       "4  ...        2006  rejected      0    0    0      1         0   \n",
       "\n",
       "   sexual_explicit  identity_annotator_count  toxicity_annotator_count  \n",
       "0              0.0                         0                         4  \n",
       "1              0.0                         0                         4  \n",
       "2              0.0                         0                         4  \n",
       "3              0.0                         0                         4  \n",
       "4              0.0                         4                        47  \n",
       "\n",
       "[5 rows x 45 columns]"
      ]
     },
     "execution_count": 123,
     "metadata": {},
     "output_type": "execute_result"
    }
   ],
   "source": [
    "print(train.shape)\n",
    "train.head()"
   ]
  },
  {
   "cell_type": "code",
   "execution_count": 124,
   "metadata": {},
   "outputs": [
    {
     "name": "stdout",
     "output_type": "stream",
     "text": [
      "(97320, 2)\n"
     ]
    },
    {
     "data": {
      "text/html": [
       "<div>\n",
       "<style scoped>\n",
       "    .dataframe tbody tr th:only-of-type {\n",
       "        vertical-align: middle;\n",
       "    }\n",
       "\n",
       "    .dataframe tbody tr th {\n",
       "        vertical-align: top;\n",
       "    }\n",
       "\n",
       "    .dataframe thead th {\n",
       "        text-align: right;\n",
       "    }\n",
       "</style>\n",
       "<table border=\"1\" class=\"dataframe\">\n",
       "  <thead>\n",
       "    <tr style=\"text-align: right;\">\n",
       "      <th></th>\n",
       "      <th>id</th>\n",
       "      <th>comment_text</th>\n",
       "    </tr>\n",
       "  </thead>\n",
       "  <tbody>\n",
       "    <tr>\n",
       "      <th>0</th>\n",
       "      <td>7000000</td>\n",
       "      <td>Jeff Sessions is another one of Trump's Orwell...</td>\n",
       "    </tr>\n",
       "    <tr>\n",
       "      <th>1</th>\n",
       "      <td>7000001</td>\n",
       "      <td>I actually inspected the infrastructure on Gra...</td>\n",
       "    </tr>\n",
       "    <tr>\n",
       "      <th>2</th>\n",
       "      <td>7000002</td>\n",
       "      <td>No it won't . That's just wishful thinking on ...</td>\n",
       "    </tr>\n",
       "    <tr>\n",
       "      <th>3</th>\n",
       "      <td>7000003</td>\n",
       "      <td>Instead of wringing our hands and nibbling the...</td>\n",
       "    </tr>\n",
       "    <tr>\n",
       "      <th>4</th>\n",
       "      <td>7000004</td>\n",
       "      <td>how many of you commenters have garbage piled ...</td>\n",
       "    </tr>\n",
       "  </tbody>\n",
       "</table>\n",
       "</div>"
      ],
      "text/plain": [
       "        id                                       comment_text\n",
       "0  7000000  Jeff Sessions is another one of Trump's Orwell...\n",
       "1  7000001  I actually inspected the infrastructure on Gra...\n",
       "2  7000002  No it won't . That's just wishful thinking on ...\n",
       "3  7000003  Instead of wringing our hands and nibbling the...\n",
       "4  7000004  how many of you commenters have garbage piled ..."
      ]
     },
     "execution_count": 124,
     "metadata": {},
     "output_type": "execute_result"
    }
   ],
   "source": [
    "print(test.shape)\n",
    "test.head()"
   ]
  },
  {
   "cell_type": "code",
   "execution_count": 125,
   "metadata": {},
   "outputs": [],
   "source": [
    "def get_word_count(sentence):\n",
    "    return len(sentence.split())"
   ]
  },
  {
   "cell_type": "code",
   "execution_count": 126,
   "metadata": {},
   "outputs": [
    {
     "name": "stdout",
     "output_type": "stream",
     "text": [
      "largest number of words in a comment is 317\n"
     ]
    }
   ],
   "source": [
    "lengths = train['comment_text'].apply(get_word_count)\n",
    "max_words_in_comment = lengths.max()\n",
    "print(\"largest number of words in a comment is\",max_words_in_comment)\n",
    "max_words = max_words_in_comment*2#this is the size of the neural network input\n"
   ]
  },
  {
   "cell_type": "code",
   "execution_count": 127,
   "metadata": {},
   "outputs": [
    {
     "name": "stdout",
     "output_type": "stream",
     "text": [
      "<class 'pandas.core.frame.DataFrame'>\n",
      "RangeIndex: 1804874 entries, 0 to 1804873\n",
      "Data columns (total 3 columns):\n",
      "id              int64\n",
      "target          float64\n",
      "comment_text    object\n",
      "dtypes: float64(1), int64(1), object(1)\n",
      "memory usage: 41.3+ MB\n"
     ]
    }
   ],
   "source": [
    "test_narrowed = train[['id','target', 'comment_text']]\n",
    "test_narrowed.info()"
   ]
  },
  {
   "cell_type": "code",
   "execution_count": 128,
   "metadata": {},
   "outputs": [],
   "source": [
    "def target(value):\n",
    "    if value>=0.5:\n",
    "        return 1\n",
    "    else:\n",
    "        return 0\n"
   ]
  },
  {
   "cell_type": "code",
   "execution_count": 129,
   "metadata": {},
   "outputs": [],
   "source": [
    "   \n",
    "# This runs much faster than the lamda\n",
    "test_narrowed['truth'] = test_narrowed['target'].apply(target).astype('float32') "
   ]
  },
  {
   "cell_type": "code",
   "execution_count": 130,
   "metadata": {},
   "outputs": [
    {
     "data": {
      "text/plain": [
       "Text(0.5, 1.0, 'Targets')"
      ]
     },
     "execution_count": 130,
     "metadata": {},
     "output_type": "execute_result"
    },
    {
     "data": {
      "image/png": "[encoded data removed]",
      "text/plain": [
       "<Figure size 432x288 with 1 Axes>"
      ]
     },
     "metadata": {
      "needs_background": "light"
     },
     "output_type": "display_data"
    }
   ],
   "source": [
    "sns.countplot(test_narrowed.truth)\n",
    "plt.xlabel('target')\n",
    "plt.title('Targets')"
   ]
  },
  {
   "cell_type": "code",
   "execution_count": 131,
   "metadata": {},
   "outputs": [
    {
     "name": "stdout",
     "output_type": "stream",
     "text": [
      "number of records 1804874\n"
     ]
    }
   ],
   "source": [
    "# distribution of length of comments\n",
    "\n",
    "x = pd.Series(lengths).sort_values().astype('float32') \n",
    "y = len(lengths)\n",
    "\n",
    "\n",
    "print (\"number of records\", y)\n",
    "\n"
   ]
  },
  {
   "cell_type": "code",
   "execution_count": 148,
   "metadata": {},
   "outputs": [
    {
     "data": {
      "image/png": "[encoded data removed]",
      "text/plain": [
       "<Figure size 432x288 with 1 Axes>"
      ]
     },
     "metadata": {
      "needs_background": "light"
     },
     "output_type": "display_data"
    }
   ],
   "source": [
    "plot(range(len(lengths)),x)\n",
    "xlabel('comment index')\n",
    "ylabel('length')\n",
    "title('length of comments')\n",
    "grid(True)\n",
    "show()"
   ]
  },
  {
   "cell_type": "code",
   "execution_count": 133,
   "metadata": {},
   "outputs": [
    {
     "name": "stdout",
     "output_type": "stream",
     "text": [
      "99.3% of the data is not outliers\n"
     ]
    },
    {
     "data": {
      "image/png": "[encoded data removed]",
      "text/plain": [
       "<Figure size 432x288 with 1 Axes>"
      ]
     },
     "metadata": {
      "needs_background": "light"
     },
     "output_type": "display_data"
    }
   ],
   "source": [
    "# pd.DataFrame(x).boxplot()\n",
    "x.plot.box(grid=True,vert=False)\n",
    "print(\"99.3% of the data is not outliers\")\n"
   ]
  },
  {
   "cell_type": "code",
   "execution_count": 134,
   "metadata": {},
   "outputs": [
    {
     "data": {
      "text/plain": [
       "count    1.804874e+06\n",
       "mean     5.127689e+01\n",
       "std      4.617812e+01\n",
       "min      1.000000e+00\n",
       "25%      1.600000e+01\n",
       "50%      3.500000e+01\n",
       "75%      7.200000e+01\n",
       "max      3.170000e+02\n",
       "Name: comment_text, dtype: float64"
      ]
     },
     "execution_count": 134,
     "metadata": {},
     "output_type": "execute_result"
    }
   ],
   "source": [
    "x.describe()"
   ]
  },
  {
   "cell_type": "code",
   "execution_count": 135,
   "metadata": {},
   "outputs": [
    {
     "data": {
      "text/plain": [
       "array([  0,  10,  20,  30,  40,  50,  60,  70,  80,  90, 100, 110, 120,\n",
       "       130, 140, 150, 160, 170, 180, 190, 200, 210, 220, 230, 240, 250,\n",
       "       260, 270, 280, 290, 300, 310, 320])"
      ]
     },
     "execution_count": 135,
     "metadata": {},
     "output_type": "execute_result"
    }
   ],
   "source": [
    "hist_sections = np.arange(start=0, stop=330, step=10)\n",
    "hist_sections"
   ]
  },
  {
   "cell_type": "code",
   "execution_count": 136,
   "metadata": {},
   "outputs": [
    {
     "data": {
      "text/plain": [
       "<matplotlib.axes._subplots.AxesSubplot at 0x1ee497c2b38>"
      ]
     },
     "execution_count": 136,
     "metadata": {},
     "output_type": "execute_result"
    },
    {
     "data": {
      "image/png": "[encoded data removed]",
      "text/plain": [
       "<Figure size 432x288 with 1 Axes>"
      ]
     },
     "metadata": {
      "needs_background": "light"
     },
     "output_type": "display_data"
    }
   ],
   "source": [
    "# wn_carrier = data[x == 'WN']\n",
    "# wn_carrier['arr_delay'].hist(bins=bin_values, figsize=[14,6])\n",
    "\n",
    "x.plot(kind='hist', bins=hist_sections) # `bins` defines the start and end points of bins\n"
   ]
  },
  {
   "cell_type": "code",
   "execution_count": 137,
   "metadata": {},
   "outputs": [
    {
     "data": {
      "text/plain": [
       "<matplotlib.axes._subplots.AxesSubplot at 0x1ee499339b0>"
      ]
     },
     "execution_count": 137,
     "metadata": {},
     "output_type": "execute_result"
    },
    {
     "data": {
      "image/png": "[encoded data removed]",
      "text/plain": [
       "<Figure size 432x288 with 1 Axes>"
      ]
     },
     "metadata": {
      "needs_background": "light"
     },
     "output_type": "display_data"
    }
   ],
   "source": [
    "hist_sections = np.arange(start=210, stop=330, step=10)\n",
    "x.plot(kind='hist', bins=hist_sections) # `bins` defines the start and end points of bins"
   ]
  },
  {
   "cell_type": "markdown",
   "metadata": {},
   "source": [
    "### Let's look at only toxic comments"
   ]
  },
  {
   "cell_type": "code",
   "execution_count": 210,
   "metadata": {},
   "outputs": [],
   "source": [
    "# print(test_narrowed.head(1000))\n",
    "toxic_only = test_narrowed[ test_narrowed[\"truth\"]==1.0]\n",
    "# print(toxic_only)"
   ]
  },
  {
   "cell_type": "code",
   "execution_count": 235,
   "metadata": {
    "scrolled": true
   },
   "outputs": [
    {
     "name": "stdout",
     "output_type": "stream",
     "text": [
      "Already we can see that toxic comments can still be long: \n"
     ]
    },
    {
     "data": {
      "text/html": [
       "<div>\n",
       "<style scoped>\n",
       "    .dataframe tbody tr th:only-of-type {\n",
       "        vertical-align: middle;\n",
       "    }\n",
       "\n",
       "    .dataframe tbody tr th {\n",
       "        vertical-align: top;\n",
       "    }\n",
       "\n",
       "    .dataframe thead th {\n",
       "        text-align: right;\n",
       "    }\n",
       "</style>\n",
       "<table border=\"1\" class=\"dataframe\">\n",
       "  <thead>\n",
       "    <tr style=\"text-align: right;\">\n",
       "      <th></th>\n",
       "      <th>id</th>\n",
       "      <th>target</th>\n",
       "      <th>comment_text</th>\n",
       "      <th>truth</th>\n",
       "      <th>word_count</th>\n",
       "    </tr>\n",
       "  </thead>\n",
       "  <tbody>\n",
       "    <tr>\n",
       "      <th>642879</th>\n",
       "      <td>1029117</td>\n",
       "      <td>0.500000</td>\n",
       "      <td>I want a job at Costco, but won't fill out an ...</td>\n",
       "      <td>1.0</td>\n",
       "      <td>201</td>\n",
       "    </tr>\n",
       "    <tr>\n",
       "      <th>1622665</th>\n",
       "      <td>6109440</td>\n",
       "      <td>0.500000</td>\n",
       "      <td>These players are a joke . The very fact they ...</td>\n",
       "      <td>1.0</td>\n",
       "      <td>201</td>\n",
       "    </tr>\n",
       "    <tr>\n",
       "      <th>1510746</th>\n",
       "      <td>5969862</td>\n",
       "      <td>0.600000</td>\n",
       "      <td>With a completion date of 2030 &amp; a prictag of ...</td>\n",
       "      <td>1.0</td>\n",
       "      <td>201</td>\n",
       "    </tr>\n",
       "    <tr>\n",
       "      <th>304549</th>\n",
       "      <td>614885</td>\n",
       "      <td>0.600000</td>\n",
       "      <td>Worked so hard for the physical and mental dam...</td>\n",
       "      <td>1.0</td>\n",
       "      <td>201</td>\n",
       "    </tr>\n",
       "    <tr>\n",
       "      <th>305603</th>\n",
       "      <td>616113</td>\n",
       "      <td>0.700000</td>\n",
       "      <td>Yes and people would have shot and killed any ...</td>\n",
       "      <td>1.0</td>\n",
       "      <td>202</td>\n",
       "    </tr>\n",
       "    <tr>\n",
       "      <th>1532084</th>\n",
       "      <td>5996816</td>\n",
       "      <td>0.666667</td>\n",
       "      <td>Just what is so good about Walker?? Did you fo...</td>\n",
       "      <td>1.0</td>\n",
       "      <td>203</td>\n",
       "    </tr>\n",
       "    <tr>\n",
       "      <th>195082</th>\n",
       "      <td>480072</td>\n",
       "      <td>0.500000</td>\n",
       "      <td>People, easy now. . . take a deep breath. Let ...</td>\n",
       "      <td>1.0</td>\n",
       "      <td>203</td>\n",
       "    </tr>\n",
       "    <tr>\n",
       "      <th>1359951</th>\n",
       "      <td>5778243</td>\n",
       "      <td>0.764706</td>\n",
       "      <td>When I was 12, my goal for the whole year was ...</td>\n",
       "      <td>1.0</td>\n",
       "      <td>204</td>\n",
       "    </tr>\n",
       "    <tr>\n",
       "      <th>1747304</th>\n",
       "      <td>6264024</td>\n",
       "      <td>0.500000</td>\n",
       "      <td>I have had an interesting life with raising my...</td>\n",
       "      <td>1.0</td>\n",
       "      <td>207</td>\n",
       "    </tr>\n",
       "    <tr>\n",
       "      <th>919326</th>\n",
       "      <td>5244486</td>\n",
       "      <td>0.842857</td>\n",
       "      <td>Ha ha ha ha ha ha ha ha ha ha ha ha ha ha ha h...</td>\n",
       "      <td>1.0</td>\n",
       "      <td>311</td>\n",
       "    </tr>\n",
       "  </tbody>\n",
       "</table>\n",
       "</div>"
      ],
      "text/plain": [
       "              id    target                                       comment_text  \\\n",
       "642879   1029117  0.500000  I want a job at Costco, but won't fill out an ...   \n",
       "1622665  6109440  0.500000  These players are a joke . The very fact they ...   \n",
       "1510746  5969862  0.600000  With a completion date of 2030 & a prictag of ...   \n",
       "304549    614885  0.600000  Worked so hard for the physical and mental dam...   \n",
       "305603    616113  0.700000  Yes and people would have shot and killed any ...   \n",
       "1532084  5996816  0.666667  Just what is so good about Walker?? Did you fo...   \n",
       "195082    480072  0.500000  People, easy now. . . take a deep breath. Let ...   \n",
       "1359951  5778243  0.764706  When I was 12, my goal for the whole year was ...   \n",
       "1747304  6264024  0.500000  I have had an interesting life with raising my...   \n",
       "919326   5244486  0.842857  Ha ha ha ha ha ha ha ha ha ha ha ha ha ha ha h...   \n",
       "\n",
       "         truth  word_count  \n",
       "642879     1.0         201  \n",
       "1622665    1.0         201  \n",
       "1510746    1.0         201  \n",
       "304549     1.0         201  \n",
       "305603     1.0         202  \n",
       "1532084    1.0         203  \n",
       "195082     1.0         203  \n",
       "1359951    1.0         204  \n",
       "1747304    1.0         207  \n",
       "919326     1.0         311  "
      ]
     },
     "execution_count": 235,
     "metadata": {},
     "output_type": "execute_result"
    }
   ],
   "source": [
    "toxic_only[\"word_count\"] = toxic_only.comment_text.apply(get_word_count)\n",
    "toxic_only.sort_values(by=[\"word_count\",\"comment_text\"],inplace=True)\n",
    "print(\"Already we can see that toxic comments can still be long: \")\n",
    "toxic_only.tail(10)"
   ]
  },
  {
   "cell_type": "code",
   "execution_count": 236,
   "metadata": {
    "scrolled": true
   },
   "outputs": [
    {
     "data": {
      "text/html": [
       "<div>\n",
       "<style scoped>\n",
       "    .dataframe tbody tr th:only-of-type {\n",
       "        vertical-align: middle;\n",
       "    }\n",
       "\n",
       "    .dataframe tbody tr th {\n",
       "        vertical-align: top;\n",
       "    }\n",
       "\n",
       "    .dataframe thead th {\n",
       "        text-align: right;\n",
       "    }\n",
       "</style>\n",
       "<table border=\"1\" class=\"dataframe\">\n",
       "  <thead>\n",
       "    <tr style=\"text-align: right;\">\n",
       "      <th></th>\n",
       "      <th>id</th>\n",
       "      <th>target</th>\n",
       "      <th>comment_text</th>\n",
       "      <th>truth</th>\n",
       "      <th>word_count</th>\n",
       "    </tr>\n",
       "  </thead>\n",
       "  <tbody>\n",
       "    <tr>\n",
       "      <th>201563</th>\n",
       "      <td>488119</td>\n",
       "      <td>0.600000</td>\n",
       "      <td>\"Thug\"?</td>\n",
       "      <td>1.0</td>\n",
       "      <td>1</td>\n",
       "    </tr>\n",
       "    <tr>\n",
       "      <th>985179</th>\n",
       "      <td>5323020</td>\n",
       "      <td>0.500000</td>\n",
       "      <td>#FakePresident</td>\n",
       "      <td>1.0</td>\n",
       "      <td>1</td>\n",
       "    </tr>\n",
       "    <tr>\n",
       "      <th>1399082</th>\n",
       "      <td>5828389</td>\n",
       "      <td>0.500000</td>\n",
       "      <td>#FakeTrump</td>\n",
       "      <td>1.0</td>\n",
       "      <td>1</td>\n",
       "    </tr>\n",
       "    <tr>\n",
       "      <th>132990</th>\n",
       "      <td>404630</td>\n",
       "      <td>0.800000</td>\n",
       "      <td>#TRAITORtRUMP</td>\n",
       "      <td>1.0</td>\n",
       "      <td>1</td>\n",
       "    </tr>\n",
       "    <tr>\n",
       "      <th>1122047</th>\n",
       "      <td>5487011</td>\n",
       "      <td>0.500000</td>\n",
       "      <td>#fakepresident</td>\n",
       "      <td>1.0</td>\n",
       "      <td>1</td>\n",
       "    </tr>\n",
       "    <tr>\n",
       "      <th>1652036</th>\n",
       "      <td>6146962</td>\n",
       "      <td>0.614286</td>\n",
       "      <td>#pathetic</td>\n",
       "      <td>1.0</td>\n",
       "      <td>1</td>\n",
       "    </tr>\n",
       "    <tr>\n",
       "      <th>1600100</th>\n",
       "      <td>6079760</td>\n",
       "      <td>0.666667</td>\n",
       "      <td>*arse</td>\n",
       "      <td>1.0</td>\n",
       "      <td>1</td>\n",
       "    </tr>\n",
       "    <tr>\n",
       "      <th>620731</th>\n",
       "      <td>1002068</td>\n",
       "      <td>0.833333</td>\n",
       "      <td>..troll..</td>\n",
       "      <td>1.0</td>\n",
       "      <td>1</td>\n",
       "    </tr>\n",
       "    <tr>\n",
       "      <th>93913</th>\n",
       "      <td>357347</td>\n",
       "      <td>1.000000</td>\n",
       "      <td>Andree...baloney.</td>\n",
       "      <td>1.0</td>\n",
       "      <td>1</td>\n",
       "    </tr>\n",
       "    <tr>\n",
       "      <th>940229</th>\n",
       "      <td>5268990</td>\n",
       "      <td>0.921875</td>\n",
       "      <td>Ass.</td>\n",
       "      <td>1.0</td>\n",
       "      <td>1</td>\n",
       "    </tr>\n",
       "    <tr>\n",
       "      <th>612741</th>\n",
       "      <td>992076</td>\n",
       "      <td>0.558442</td>\n",
       "      <td>Assh*les.</td>\n",
       "      <td>1.0</td>\n",
       "      <td>1</td>\n",
       "    </tr>\n",
       "    <tr>\n",
       "      <th>327889</th>\n",
       "      <td>643833</td>\n",
       "      <td>0.875000</td>\n",
       "      <td>Asshole.</td>\n",
       "      <td>1.0</td>\n",
       "      <td>1</td>\n",
       "    </tr>\n",
       "    <tr>\n",
       "      <th>33550</th>\n",
       "      <td>282918</td>\n",
       "      <td>0.900000</td>\n",
       "      <td>Assholes</td>\n",
       "      <td>1.0</td>\n",
       "      <td>1</td>\n",
       "    </tr>\n",
       "    <tr>\n",
       "      <th>50688</th>\n",
       "      <td>303816</td>\n",
       "      <td>0.924242</td>\n",
       "      <td>Assholes</td>\n",
       "      <td>1.0</td>\n",
       "      <td>1</td>\n",
       "    </tr>\n",
       "    <tr>\n",
       "      <th>1455588</th>\n",
       "      <td>5900433</td>\n",
       "      <td>0.500000</td>\n",
       "      <td>Awkward!</td>\n",
       "      <td>1.0</td>\n",
       "      <td>1</td>\n",
       "    </tr>\n",
       "    <tr>\n",
       "      <th>88382</th>\n",
       "      <td>350803</td>\n",
       "      <td>0.500000</td>\n",
       "      <td>BIGOT</td>\n",
       "      <td>1.0</td>\n",
       "      <td>1</td>\n",
       "    </tr>\n",
       "    <tr>\n",
       "      <th>883606</th>\n",
       "      <td>5201639</td>\n",
       "      <td>0.500000</td>\n",
       "      <td>Bad!</td>\n",
       "      <td>1.0</td>\n",
       "      <td>1</td>\n",
       "    </tr>\n",
       "    <tr>\n",
       "      <th>206234</th>\n",
       "      <td>494238</td>\n",
       "      <td>0.902778</td>\n",
       "      <td>Bastard!</td>\n",
       "      <td>1.0</td>\n",
       "      <td>1</td>\n",
       "    </tr>\n",
       "    <tr>\n",
       "      <th>731140</th>\n",
       "      <td>5016360</td>\n",
       "      <td>0.909091</td>\n",
       "      <td>Bastards</td>\n",
       "      <td>1.0</td>\n",
       "      <td>1</td>\n",
       "    </tr>\n",
       "    <tr>\n",
       "      <th>1182268</th>\n",
       "      <td>5561141</td>\n",
       "      <td>0.700000</td>\n",
       "      <td>Bull$hit.</td>\n",
       "      <td>1.0</td>\n",
       "      <td>1</td>\n",
       "    </tr>\n",
       "    <tr>\n",
       "      <th>1155749</th>\n",
       "      <td>5529220</td>\n",
       "      <td>0.644068</td>\n",
       "      <td>Bullsh*t</td>\n",
       "      <td>1.0</td>\n",
       "      <td>1</td>\n",
       "    </tr>\n",
       "    <tr>\n",
       "      <th>939469</th>\n",
       "      <td>5268129</td>\n",
       "      <td>0.613333</td>\n",
       "      <td>Bullsh*t!</td>\n",
       "      <td>1.0</td>\n",
       "      <td>1</td>\n",
       "    </tr>\n",
       "    <tr>\n",
       "      <th>1565050</th>\n",
       "      <td>6036747</td>\n",
       "      <td>0.888889</td>\n",
       "      <td>Bullshit</td>\n",
       "      <td>1.0</td>\n",
       "      <td>1</td>\n",
       "    </tr>\n",
       "    <tr>\n",
       "      <th>261132</th>\n",
       "      <td>562969</td>\n",
       "      <td>0.885714</td>\n",
       "      <td>Bullshit</td>\n",
       "      <td>1.0</td>\n",
       "      <td>1</td>\n",
       "    </tr>\n",
       "    <tr>\n",
       "      <th>53516</th>\n",
       "      <td>307629</td>\n",
       "      <td>0.887324</td>\n",
       "      <td>Bullshit!</td>\n",
       "      <td>1.0</td>\n",
       "      <td>1</td>\n",
       "    </tr>\n",
       "    <tr>\n",
       "      <th>418372</th>\n",
       "      <td>755044</td>\n",
       "      <td>0.944444</td>\n",
       "      <td>Bullshit.</td>\n",
       "      <td>1.0</td>\n",
       "      <td>1</td>\n",
       "    </tr>\n",
       "    <tr>\n",
       "      <th>562498</th>\n",
       "      <td>930929</td>\n",
       "      <td>0.863636</td>\n",
       "      <td>Bullshit.</td>\n",
       "      <td>1.0</td>\n",
       "      <td>1</td>\n",
       "    </tr>\n",
       "    <tr>\n",
       "      <th>153991</th>\n",
       "      <td>430473</td>\n",
       "      <td>0.836066</td>\n",
       "      <td>Bullshit...</td>\n",
       "      <td>1.0</td>\n",
       "      <td>1</td>\n",
       "    </tr>\n",
       "    <tr>\n",
       "      <th>1382342</th>\n",
       "      <td>5807622</td>\n",
       "      <td>0.500000</td>\n",
       "      <td>Bullshite</td>\n",
       "      <td>1.0</td>\n",
       "      <td>1</td>\n",
       "    </tr>\n",
       "    <tr>\n",
       "      <th>608828</th>\n",
       "      <td>987043</td>\n",
       "      <td>0.500000</td>\n",
       "      <td>Bully.</td>\n",
       "      <td>1.0</td>\n",
       "      <td>1</td>\n",
       "    </tr>\n",
       "    <tr>\n",
       "      <th>...</th>\n",
       "      <td>...</td>\n",
       "      <td>...</td>\n",
       "      <td>...</td>\n",
       "      <td>...</td>\n",
       "      <td>...</td>\n",
       "    </tr>\n",
       "    <tr>\n",
       "      <th>1749604</th>\n",
       "      <td>6266807</td>\n",
       "      <td>0.700000</td>\n",
       "      <td>\"The best thing for Lynch is what's coming up,...</td>\n",
       "      <td>1.0</td>\n",
       "      <td>197</td>\n",
       "    </tr>\n",
       "    <tr>\n",
       "      <th>243969</th>\n",
       "      <td>542169</td>\n",
       "      <td>0.657895</td>\n",
       "      <td>Hes just a liar, he has nothing else better to...</td>\n",
       "      <td>1.0</td>\n",
       "      <td>197</td>\n",
       "    </tr>\n",
       "    <tr>\n",
       "      <th>141630</th>\n",
       "      <td>415006</td>\n",
       "      <td>0.600000</td>\n",
       "      <td>I stayed with my rapist for a few weeks and af...</td>\n",
       "      <td>1.0</td>\n",
       "      <td>197</td>\n",
       "    </tr>\n",
       "    <tr>\n",
       "      <th>927525</th>\n",
       "      <td>5254269</td>\n",
       "      <td>0.569231</td>\n",
       "      <td>dang! man, why the heck we have to keep dealin...</td>\n",
       "      <td>1.0</td>\n",
       "      <td>197</td>\n",
       "    </tr>\n",
       "    <tr>\n",
       "      <th>205642</th>\n",
       "      <td>493414</td>\n",
       "      <td>0.500000</td>\n",
       "      <td>Crutcher  was another loser with a record. Whi...</td>\n",
       "      <td>1.0</td>\n",
       "      <td>198</td>\n",
       "    </tr>\n",
       "    <tr>\n",
       "      <th>276835</th>\n",
       "      <td>581360</td>\n",
       "      <td>0.800000</td>\n",
       "      <td>Here let me sum up the stupidity of all partie...</td>\n",
       "      <td>1.0</td>\n",
       "      <td>198</td>\n",
       "    </tr>\n",
       "    <tr>\n",
       "      <th>76532</th>\n",
       "      <td>336243</td>\n",
       "      <td>0.500000</td>\n",
       "      <td>I am homeless and living in my truck. I turned...</td>\n",
       "      <td>1.0</td>\n",
       "      <td>198</td>\n",
       "    </tr>\n",
       "    <tr>\n",
       "      <th>676216</th>\n",
       "      <td>1068750</td>\n",
       "      <td>0.500000</td>\n",
       "      <td>Pls put this show out of its misery. I think D...</td>\n",
       "      <td>1.0</td>\n",
       "      <td>198</td>\n",
       "    </tr>\n",
       "    <tr>\n",
       "      <th>1034477</th>\n",
       "      <td>5381689</td>\n",
       "      <td>0.600000</td>\n",
       "      <td>Wheres the 60 or 80 billion over twenty years ...</td>\n",
       "      <td>1.0</td>\n",
       "      <td>198</td>\n",
       "    </tr>\n",
       "    <tr>\n",
       "      <th>699717</th>\n",
       "      <td>4978683</td>\n",
       "      <td>0.700000</td>\n",
       "      <td>You are to blind to see because of the behavio...</td>\n",
       "      <td>1.0</td>\n",
       "      <td>198</td>\n",
       "    </tr>\n",
       "    <tr>\n",
       "      <th>204064</th>\n",
       "      <td>491518</td>\n",
       "      <td>0.500000</td>\n",
       "      <td>Part 2  So I spoke to her supervisor arron and...</td>\n",
       "      <td>1.0</td>\n",
       "      <td>199</td>\n",
       "    </tr>\n",
       "    <tr>\n",
       "      <th>31508</th>\n",
       "      <td>280369</td>\n",
       "      <td>0.833333</td>\n",
       "      <td>Shoot my dog if he is charging you with teeth ...</td>\n",
       "      <td>1.0</td>\n",
       "      <td>199</td>\n",
       "    </tr>\n",
       "    <tr>\n",
       "      <th>1328659</th>\n",
       "      <td>5739155</td>\n",
       "      <td>0.700000</td>\n",
       "      <td>The sad part is liberals hope he did it , wher...</td>\n",
       "      <td>1.0</td>\n",
       "      <td>199</td>\n",
       "    </tr>\n",
       "    <tr>\n",
       "      <th>753489</th>\n",
       "      <td>5043109</td>\n",
       "      <td>0.600000</td>\n",
       "      <td>You can't be serious . As I've mentioned in an...</td>\n",
       "      <td>1.0</td>\n",
       "      <td>199</td>\n",
       "    </tr>\n",
       "    <tr>\n",
       "      <th>1698451</th>\n",
       "      <td>6204410</td>\n",
       "      <td>0.500000</td>\n",
       "      <td>I have worked with straight forward men I have...</td>\n",
       "      <td>1.0</td>\n",
       "      <td>200</td>\n",
       "    </tr>\n",
       "    <tr>\n",
       "      <th>447966</th>\n",
       "      <td>792372</td>\n",
       "      <td>0.700000</td>\n",
       "      <td>I know the family it sad that I even have to s...</td>\n",
       "      <td>1.0</td>\n",
       "      <td>200</td>\n",
       "    </tr>\n",
       "    <tr>\n",
       "      <th>1565470</th>\n",
       "      <td>6037253</td>\n",
       "      <td>0.700000</td>\n",
       "      <td>Now that we all are missing the point by just ...</td>\n",
       "      <td>1.0</td>\n",
       "      <td>200</td>\n",
       "    </tr>\n",
       "    <tr>\n",
       "      <th>1519881</th>\n",
       "      <td>5981191</td>\n",
       "      <td>0.600000</td>\n",
       "      <td>You want to put an end to all this crap going ...</td>\n",
       "      <td>1.0</td>\n",
       "      <td>200</td>\n",
       "    </tr>\n",
       "    <tr>\n",
       "      <th>456976</th>\n",
       "      <td>804507</td>\n",
       "      <td>0.600000</td>\n",
       "      <td>I don't know why you people feel safe just bec...</td>\n",
       "      <td>1.0</td>\n",
       "      <td>201</td>\n",
       "    </tr>\n",
       "    <tr>\n",
       "      <th>293772</th>\n",
       "      <td>601783</td>\n",
       "      <td>0.600000</td>\n",
       "      <td>I moved to Alaska thinking Alaska might be abo...</td>\n",
       "      <td>1.0</td>\n",
       "      <td>201</td>\n",
       "    </tr>\n",
       "    <tr>\n",
       "      <th>642879</th>\n",
       "      <td>1029117</td>\n",
       "      <td>0.500000</td>\n",
       "      <td>I want a job at Costco, but won't fill out an ...</td>\n",
       "      <td>1.0</td>\n",
       "      <td>201</td>\n",
       "    </tr>\n",
       "    <tr>\n",
       "      <th>1622665</th>\n",
       "      <td>6109440</td>\n",
       "      <td>0.500000</td>\n",
       "      <td>These players are a joke . The very fact they ...</td>\n",
       "      <td>1.0</td>\n",
       "      <td>201</td>\n",
       "    </tr>\n",
       "    <tr>\n",
       "      <th>1510746</th>\n",
       "      <td>5969862</td>\n",
       "      <td>0.600000</td>\n",
       "      <td>With a completion date of 2030 &amp; a prictag of ...</td>\n",
       "      <td>1.0</td>\n",
       "      <td>201</td>\n",
       "    </tr>\n",
       "    <tr>\n",
       "      <th>304549</th>\n",
       "      <td>614885</td>\n",
       "      <td>0.600000</td>\n",
       "      <td>Worked so hard for the physical and mental dam...</td>\n",
       "      <td>1.0</td>\n",
       "      <td>201</td>\n",
       "    </tr>\n",
       "    <tr>\n",
       "      <th>305603</th>\n",
       "      <td>616113</td>\n",
       "      <td>0.700000</td>\n",
       "      <td>Yes and people would have shot and killed any ...</td>\n",
       "      <td>1.0</td>\n",
       "      <td>202</td>\n",
       "    </tr>\n",
       "    <tr>\n",
       "      <th>1532084</th>\n",
       "      <td>5996816</td>\n",
       "      <td>0.666667</td>\n",
       "      <td>Just what is so good about Walker?? Did you fo...</td>\n",
       "      <td>1.0</td>\n",
       "      <td>203</td>\n",
       "    </tr>\n",
       "    <tr>\n",
       "      <th>195082</th>\n",
       "      <td>480072</td>\n",
       "      <td>0.500000</td>\n",
       "      <td>People, easy now. . . take a deep breath. Let ...</td>\n",
       "      <td>1.0</td>\n",
       "      <td>203</td>\n",
       "    </tr>\n",
       "    <tr>\n",
       "      <th>1359951</th>\n",
       "      <td>5778243</td>\n",
       "      <td>0.764706</td>\n",
       "      <td>When I was 12, my goal for the whole year was ...</td>\n",
       "      <td>1.0</td>\n",
       "      <td>204</td>\n",
       "    </tr>\n",
       "    <tr>\n",
       "      <th>1747304</th>\n",
       "      <td>6264024</td>\n",
       "      <td>0.500000</td>\n",
       "      <td>I have had an interesting life with raising my...</td>\n",
       "      <td>1.0</td>\n",
       "      <td>207</td>\n",
       "    </tr>\n",
       "    <tr>\n",
       "      <th>919326</th>\n",
       "      <td>5244486</td>\n",
       "      <td>0.842857</td>\n",
       "      <td>Ha ha ha ha ha ha ha ha ha ha ha ha ha ha ha h...</td>\n",
       "      <td>1.0</td>\n",
       "      <td>311</td>\n",
       "    </tr>\n",
       "  </tbody>\n",
       "</table>\n",
       "<p>144334 rows × 5 columns</p>\n",
       "</div>"
      ],
      "text/plain": [
       "              id    target                                       comment_text  \\\n",
       "201563    488119  0.600000                                            \"Thug\"?   \n",
       "985179   5323020  0.500000                                     #FakePresident   \n",
       "1399082  5828389  0.500000                                         #FakeTrump   \n",
       "132990    404630  0.800000                                      #TRAITORtRUMP   \n",
       "1122047  5487011  0.500000                                     #fakepresident   \n",
       "1652036  6146962  0.614286                                          #pathetic   \n",
       "1600100  6079760  0.666667                                              *arse   \n",
       "620731   1002068  0.833333                                          ..troll..   \n",
       "93913     357347  1.000000                                  Andree...baloney.   \n",
       "940229   5268990  0.921875                                               Ass.   \n",
       "612741    992076  0.558442                                          Assh*les.   \n",
       "327889    643833  0.875000                                           Asshole.   \n",
       "33550     282918  0.900000                                           Assholes   \n",
       "50688     303816  0.924242                                           Assholes   \n",
       "1455588  5900433  0.500000                                           Awkward!   \n",
       "88382     350803  0.500000                                              BIGOT   \n",
       "883606   5201639  0.500000                                               Bad!   \n",
       "206234    494238  0.902778                                           Bastard!   \n",
       "731140   5016360  0.909091                                           Bastards   \n",
       "1182268  5561141  0.700000                                          Bull$hit.   \n",
       "1155749  5529220  0.644068                                           Bullsh*t   \n",
       "939469   5268129  0.613333                                          Bullsh*t!   \n",
       "1565050  6036747  0.888889                                           Bullshit   \n",
       "261132    562969  0.885714                                           Bullshit   \n",
       "53516     307629  0.887324                                          Bullshit!   \n",
       "418372    755044  0.944444                                          Bullshit.   \n",
       "562498    930929  0.863636                                          Bullshit.   \n",
       "153991    430473  0.836066                                        Bullshit...   \n",
       "1382342  5807622  0.500000                                          Bullshite   \n",
       "608828    987043  0.500000                                             Bully.   \n",
       "...          ...       ...                                                ...   \n",
       "1749604  6266807  0.700000  \"The best thing for Lynch is what's coming up,...   \n",
       "243969    542169  0.657895  Hes just a liar, he has nothing else better to...   \n",
       "141630    415006  0.600000  I stayed with my rapist for a few weeks and af...   \n",
       "927525   5254269  0.569231  dang! man, why the heck we have to keep dealin...   \n",
       "205642    493414  0.500000  Crutcher  was another loser with a record. Whi...   \n",
       "276835    581360  0.800000  Here let me sum up the stupidity of all partie...   \n",
       "76532     336243  0.500000  I am homeless and living in my truck. I turned...   \n",
       "676216   1068750  0.500000  Pls put this show out of its misery. I think D...   \n",
       "1034477  5381689  0.600000  Wheres the 60 or 80 billion over twenty years ...   \n",
       "699717   4978683  0.700000  You are to blind to see because of the behavio...   \n",
       "204064    491518  0.500000  Part 2  So I spoke to her supervisor arron and...   \n",
       "31508     280369  0.833333  Shoot my dog if he is charging you with teeth ...   \n",
       "1328659  5739155  0.700000  The sad part is liberals hope he did it , wher...   \n",
       "753489   5043109  0.600000  You can't be serious . As I've mentioned in an...   \n",
       "1698451  6204410  0.500000  I have worked with straight forward men I have...   \n",
       "447966    792372  0.700000  I know the family it sad that I even have to s...   \n",
       "1565470  6037253  0.700000  Now that we all are missing the point by just ...   \n",
       "1519881  5981191  0.600000  You want to put an end to all this crap going ...   \n",
       "456976    804507  0.600000  I don't know why you people feel safe just bec...   \n",
       "293772    601783  0.600000  I moved to Alaska thinking Alaska might be abo...   \n",
       "642879   1029117  0.500000  I want a job at Costco, but won't fill out an ...   \n",
       "1622665  6109440  0.500000  These players are a joke . The very fact they ...   \n",
       "1510746  5969862  0.600000  With a completion date of 2030 & a prictag of ...   \n",
       "304549    614885  0.600000  Worked so hard for the physical and mental dam...   \n",
       "305603    616113  0.700000  Yes and people would have shot and killed any ...   \n",
       "1532084  5996816  0.666667  Just what is so good about Walker?? Did you fo...   \n",
       "195082    480072  0.500000  People, easy now. . . take a deep breath. Let ...   \n",
       "1359951  5778243  0.764706  When I was 12, my goal for the whole year was ...   \n",
       "1747304  6264024  0.500000  I have had an interesting life with raising my...   \n",
       "919326   5244486  0.842857  Ha ha ha ha ha ha ha ha ha ha ha ha ha ha ha h...   \n",
       "\n",
       "         truth  word_count  \n",
       "201563     1.0           1  \n",
       "985179     1.0           1  \n",
       "1399082    1.0           1  \n",
       "132990     1.0           1  \n",
       "1122047    1.0           1  \n",
       "1652036    1.0           1  \n",
       "1600100    1.0           1  \n",
       "620731     1.0           1  \n",
       "93913      1.0           1  \n",
       "940229     1.0           1  \n",
       "612741     1.0           1  \n",
       "327889     1.0           1  \n",
       "33550      1.0           1  \n",
       "50688      1.0           1  \n",
       "1455588    1.0           1  \n",
       "88382      1.0           1  \n",
       "883606     1.0           1  \n",
       "206234     1.0           1  \n",
       "731140     1.0           1  \n",
       "1182268    1.0           1  \n",
       "1155749    1.0           1  \n",
       "939469     1.0           1  \n",
       "1565050    1.0           1  \n",
       "261132     1.0           1  \n",
       "53516      1.0           1  \n",
       "418372     1.0           1  \n",
       "562498     1.0           1  \n",
       "153991     1.0           1  \n",
       "1382342    1.0           1  \n",
       "608828     1.0           1  \n",
       "...        ...         ...  \n",
       "1749604    1.0         197  \n",
       "243969     1.0         197  \n",
       "141630     1.0         197  \n",
       "927525     1.0         197  \n",
       "205642     1.0         198  \n",
       "276835     1.0         198  \n",
       "76532      1.0         198  \n",
       "676216     1.0         198  \n",
       "1034477    1.0         198  \n",
       "699717     1.0         198  \n",
       "204064     1.0         199  \n",
       "31508      1.0         199  \n",
       "1328659    1.0         199  \n",
       "753489     1.0         199  \n",
       "1698451    1.0         200  \n",
       "447966     1.0         200  \n",
       "1565470    1.0         200  \n",
       "1519881    1.0         200  \n",
       "456976     1.0         201  \n",
       "293772     1.0         201  \n",
       "642879     1.0         201  \n",
       "1622665    1.0         201  \n",
       "1510746    1.0         201  \n",
       "304549     1.0         201  \n",
       "305603     1.0         202  \n",
       "1532084    1.0         203  \n",
       "195082     1.0         203  \n",
       "1359951    1.0         204  \n",
       "1747304    1.0         207  \n",
       "919326     1.0         311  \n",
       "\n",
       "[144334 rows x 5 columns]"
      ]
     },
     "execution_count": 236,
     "metadata": {},
     "output_type": "execute_result"
    }
   ],
   "source": [
    "toxic_only"
   ]
  },
  {
   "cell_type": "code",
   "execution_count": 246,
   "metadata": {},
   "outputs": [
    {
     "name": "stdout",
     "output_type": "stream",
     "text": [
      "Toxic rating 0.8428571428571427\n",
      "Ha ha ha ha ha ha ha ha ha ha ha ha ha ha ha ha ha ha ha ha ha ha ha ha ha ha ha ha ha ha ha ha ha ha ha ha ha ha ha ha ha ha ha ha ha ha ha ha ha ha ha ha ha ha ha ha ha ha ha ha ha ha ha ha ha ha ha ha ha ha ha ha ha ha ha ha ha ha ha (choke, gasp) ha ha ha ha ha ha ha ha ha ha ha ha ha ha ha ha ha ha ha ha ha ha ha ha ha ha ha ha ha ha ha ha ha ha ha ha ha ha ha ha ha ha ha ha ha ha ha ha ha ha ha ha ha ha ha ha ha ha ha ha ha ha ha ha ha ha ha ha ha ha ha ha ha ha ha ha ha ha ha ha ha ha ha ha ha ha ha ha ha ha haha ha ha ha ha ha ha ha ha ha ha ha ha (choke, gasp) ha ha ha ha ha ha ha ha ha ha ha ha ha (choke, gasp) ha ha ha ha ha ha ha ha ha ha ha ha ha ha ha ha ha ha ha ha ha ha ha ha ha ha ha ha ha ha ha ha ha ha ha ha ha ha ha ha ha ha ha ha ha ha ha ha ha ha ha ha ha ha ha ha ha ha ha ha ha ha ha ha ha ha ha ha ha ha ha ha ha ha ha ha ha ha ha ha ha haha ha ha ha ha ha ha ha ha ha ha ha ha (choke, gasp) ha ha ha ha.......\n",
      "\n",
      "Ontarians can't be THAT stupid to fall for this again\n",
      "----------------------------------\n",
      "\n",
      "Toxic rating 0.5\n",
      "I have had an interesting life with raising my 6 kids them plus my foster kids.\n",
      "Responsibility is something that kids need to have and as a parent it is part of your job.\n",
      "I loved all my kids,  but I was a parent to them and not a “friend”.\n",
      "Did my kids screw up ? Hell, yes they did ! Have I screwed up ? Of course I have.\n",
      "I was raised in a culture where our elders often used stories to teach us all sorts of things. When we messed up, we got more stories plus we were taught that just saying “sorry” isn’t enough. We were taught to make amends by following what they told us we needed to do.\n",
      "If we wronged someone, we had to not only apologize but we had to so something to make it right. If we pulled up and ate all of the neighbor’s carrots we had to own up, apologize and do something like gather and chop wood or carry water for them.\n",
      "We use to get into lots of trouble but as we got older we knew right from wrong and if you messed up what you needed to do.\n",
      "Empathy? I have  plenty of it.\n",
      "----------------------------------\n",
      "\n",
      "Toxic rating 1.0\n",
      "Andree...baloney.\n",
      "----------------------------------\n",
      "\n",
      "Toxic rating 0.8333333333333333\n",
      "Shoot my dog if he is charging you with teeth bared ! The home owner is 100% wrong blaming Mr. Mellerstig for shooting his dog when he charged at him with teeth bared. Mr. Brailey is negligent having an invisible fence- which is INVISIBLE to someone walking by- all they see is the threat of a charging snarling dog. His body was half outside the property line so that tells you it did NOT stop him. I have 2 huge black dogs inside a fence with 6 ft. gates. They will bark and run the fence to let you know they are standing their ground. If one were to get out and charge at you barking I would not blame you if you shot him. If you had a child with you, I would be remorseful that my dog caused you to fear for your child. To the people that get so bent out of shape over a dog being shot- what would you do if a MOOSE were charging you and your child with his head down, ears back- no doubt what his attempt was-to mow you down and stomp you. You would shoot him...would you not ?\n",
      "----------------------------------\n",
      "\n"
     ]
    }
   ],
   "source": []
  },
  {
   "cell_type": "code",
   "execution_count": 230,
   "metadata": {},
   "outputs": [
    {
     "name": "stdout",
     "output_type": "stream",
     "text": [
      "(144334, 5)\n"
     ]
    },
    {
     "data": {
      "image/png": "[encoded data removed]",
      "text/plain": [
       "<Figure size 432x288 with 1 Axes>"
      ]
     },
     "metadata": {
      "needs_background": "light"
     },
     "output_type": "display_data"
    }
   ],
   "source": [
    "hist_sections = np.arange(start=0, stop=330, step=10)\n",
    "toxic_only.word_count.plot(kind='hist', bins=hist_sections) # `bins` defines the start and end points of bins\n",
    "print(toxic_only.shape)"
   ]
  },
  {
   "cell_type": "code",
   "execution_count": 231,
   "metadata": {},
   "outputs": [
    {
     "data": {
      "text/plain": [
       "<matplotlib.axes._subplots.AxesSubplot at 0x1ee43d766a0>"
      ]
     },
     "execution_count": 231,
     "metadata": {},
     "output_type": "execute_result"
    },
    {
     "data": {
      "image/png": "[encoded data removed]",
      "text/plain": [
       "<Figure size 432x288 with 1 Axes>"
      ]
     },
     "metadata": {
      "needs_background": "light"
     },
     "output_type": "display_data"
    }
   ],
   "source": [
    "hist_sections = np.arange(start=200, stop=330, step=10)\n",
    "toxic_lengths.plot(kind='hist', bins=hist_sections)"
   ]
  },
  {
   "cell_type": "code",
   "execution_count": 232,
   "metadata": {},
   "outputs": [
    {
     "name": "stdout",
     "output_type": "stream",
     "text": [
      "There are plenty of short comments\n"
     ]
    },
    {
     "data": {
      "image/png": "[encoded data removed]",
      "text/plain": [
       "<Figure size 432x288 with 1 Axes>"
      ]
     },
     "metadata": {
      "needs_background": "light"
     },
     "output_type": "display_data"
    }
   ],
   "source": [
    "hist_sections = np.arange(start=0, stop=10, step=1)\n",
    "toxic_only.word_count.plot(kind='hist', bins=hist_sections)\n",
    "print(\"There are plenty of short comments\")"
   ]
  },
  {
   "cell_type": "code",
   "execution_count": 233,
   "metadata": {},
   "outputs": [
    {
     "name": "stdout",
     "output_type": "stream",
     "text": [
      "The variance is smaller for toxic comments, but not drastically smaller.\n"
     ]
    },
    {
     "data": {
      "image/png": "[encoded data removed]",
      "text/plain": [
       "<Figure size 432x288 with 1 Axes>"
      ]
     },
     "metadata": {
      "needs_background": "light"
     },
     "output_type": "display_data"
    }
   ],
   "source": [
    "toxic_only.word_count.plot.box(grid=True,vert=False)\n",
    "print(\"The variance is smaller for toxic comments, but not drastically smaller.\")"
   ]
  },
  {
   "cell_type": "code",
   "execution_count": null,
   "metadata": {},
   "outputs": [],
   "source": [
    "comments_to_print=[5244486,6264024,357347,280369]\n",
    "for i in comments_to_print:\n",
    "    print(\"Toxic rating\",toxic_only.loc[toxic_only[\"id\"] == i].target.item())\n",
    "    print(toxic_only.loc[toxic_only[\"id\"] == i].comment_text.item())\n",
    "    print(\"----------------------------------\\n\")"
   ]
  },
  {
   "cell_type": "code",
   "execution_count": null,
   "metadata": {},
   "outputs": [],
   "source": []
  }
 ],
 "metadata": {
  "kernelspec": {
   "display_name": "Python 3",
   "language": "python",
   "name": "python3"
  },
  "language_info": {
   "codemirror_mode": {
    "name": "ipython",
    "version": 3
   },
   "file_extension": ".py",
   "mimetype": "text/x-python",
   "name": "python",
   "nbconvert_exporter": "python",
   "pygments_lexer": "ipython3",
   "version": "3.5.6"
  }
 },
 "nbformat": 4,
 "nbformat_minor": 2
}
