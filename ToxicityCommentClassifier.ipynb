{
 "cells": [
  {
   "cell_type": "code",
   "execution_count": 78,
   "metadata": {},
   "outputs": [],
   "source": [
    "import pandas as pd\n",
    "import numpy as np\n",
    "import sklearn.feature_extraction.text as sk_text\n",
    "import string\n",
    "from sklearn.model_selection import train_test_split\n",
    "\n",
    "from sklearn import tree, metrics    # Decision Tree\n",
    "from sklearn.linear_model import LogisticRegression # LogisticRegression\n",
    "from sklearn.svm import SVC # Support Vector Machine \n",
    "from joblib import dump, load\n",
    "import matplotlib.pyplot as plt\n"
   ]
  },
  {
   "cell_type": "code",
   "execution_count": 3,
   "metadata": {},
   "outputs": [
    {
     "name": "stdout",
     "output_type": "stream",
     "text": [
      "CPU times: user 972 ms, sys: 111 ms, total: 1.08 s\n",
      "Wall time: 1.15 s\n"
     ]
    }
   ],
   "source": [
    "%%time\n",
    "#reading in only 500k records\n",
    "toxic_comments_df = pd.read_csv('train.csv',nrows=100000)\n",
    "toxic_comments_df =  toxic_comments_df[['id','target','comment_text']]\n"
   ]
  },
  {
   "cell_type": "code",
   "execution_count": 4,
   "metadata": {},
   "outputs": [
    {
     "data": {
      "text/html": [
       "<div>\n",
       "<style scoped>\n",
       "    .dataframe tbody tr th:only-of-type {\n",
       "        vertical-align: middle;\n",
       "    }\n",
       "\n",
       "    .dataframe tbody tr th {\n",
       "        vertical-align: top;\n",
       "    }\n",
       "\n",
       "    .dataframe thead th {\n",
       "        text-align: right;\n",
       "    }\n",
       "</style>\n",
       "<table border=\"1\" class=\"dataframe\">\n",
       "  <thead>\n",
       "    <tr style=\"text-align: right;\">\n",
       "      <th></th>\n",
       "      <th>id</th>\n",
       "      <th>target</th>\n",
       "      <th>comment_text</th>\n",
       "      <th>truth</th>\n",
       "    </tr>\n",
       "  </thead>\n",
       "  <tbody>\n",
       "    <tr>\n",
       "      <th>0</th>\n",
       "      <td>59848</td>\n",
       "      <td>0.000000</td>\n",
       "      <td>This is so cool. It's like, 'would you want yo...</td>\n",
       "      <td>0.0</td>\n",
       "    </tr>\n",
       "    <tr>\n",
       "      <th>1</th>\n",
       "      <td>59849</td>\n",
       "      <td>0.000000</td>\n",
       "      <td>Thank you!! This would make my life a lot less...</td>\n",
       "      <td>0.0</td>\n",
       "    </tr>\n",
       "    <tr>\n",
       "      <th>2</th>\n",
       "      <td>59852</td>\n",
       "      <td>0.000000</td>\n",
       "      <td>This is such an urgent design problem; kudos t...</td>\n",
       "      <td>0.0</td>\n",
       "    </tr>\n",
       "    <tr>\n",
       "      <th>3</th>\n",
       "      <td>59855</td>\n",
       "      <td>0.000000</td>\n",
       "      <td>Is this something I'll be able to install on m...</td>\n",
       "      <td>0.0</td>\n",
       "    </tr>\n",
       "    <tr>\n",
       "      <th>4</th>\n",
       "      <td>59856</td>\n",
       "      <td>0.893617</td>\n",
       "      <td>haha you guys are a bunch of losers.</td>\n",
       "      <td>1.0</td>\n",
       "    </tr>\n",
       "  </tbody>\n",
       "</table>\n",
       "</div>"
      ],
      "text/plain": [
       "      id    target                                       comment_text  truth\n",
       "0  59848  0.000000  This is so cool. It's like, 'would you want yo...    0.0\n",
       "1  59849  0.000000  Thank you!! This would make my life a lot less...    0.0\n",
       "2  59852  0.000000  This is such an urgent design problem; kudos t...    0.0\n",
       "3  59855  0.000000  Is this something I'll be able to install on m...    0.0\n",
       "4  59856  0.893617               haha you guys are a bunch of losers.    1.0"
      ]
     },
     "execution_count": 4,
     "metadata": {},
     "output_type": "execute_result"
    }
   ],
   "source": [
    "#creating our truth column. comment is toxic if target >= .5\n",
    "toxic_comments_df['truth'] = toxic_comments_df.target.apply(lambda x: 1 if x>=.5 else 0 ).astype('float32')\n",
    "toxic_comments_df.head()\n"
   ]
  },
  {
   "cell_type": "code",
   "execution_count": 5,
   "metadata": {
    "scrolled": true
   },
   "outputs": [
    {
     "data": {
      "text/html": [
       "<div>\n",
       "<style scoped>\n",
       "    .dataframe tbody tr th:only-of-type {\n",
       "        vertical-align: middle;\n",
       "    }\n",
       "\n",
       "    .dataframe tbody tr th {\n",
       "        vertical-align: top;\n",
       "    }\n",
       "\n",
       "    .dataframe thead th {\n",
       "        text-align: right;\n",
       "    }\n",
       "</style>\n",
       "<table border=\"1\" class=\"dataframe\">\n",
       "  <thead>\n",
       "    <tr style=\"text-align: right;\">\n",
       "      <th></th>\n",
       "      <th>id</th>\n",
       "      <th>target</th>\n",
       "      <th>comment_text</th>\n",
       "      <th>truth</th>\n",
       "      <th>InputData</th>\n",
       "    </tr>\n",
       "  </thead>\n",
       "  <tbody>\n",
       "    <tr>\n",
       "      <th>0</th>\n",
       "      <td>59848</td>\n",
       "      <td>0.000000</td>\n",
       "      <td>This is so cool. It's like, 'would you want yo...</td>\n",
       "      <td>0.0</td>\n",
       "      <td>this is so cool its like would you want your m...</td>\n",
       "    </tr>\n",
       "    <tr>\n",
       "      <th>1</th>\n",
       "      <td>59849</td>\n",
       "      <td>0.000000</td>\n",
       "      <td>Thank you!! This would make my life a lot less...</td>\n",
       "      <td>0.0</td>\n",
       "      <td>thank you this would make my life a lot less a...</td>\n",
       "    </tr>\n",
       "    <tr>\n",
       "      <th>2</th>\n",
       "      <td>59852</td>\n",
       "      <td>0.000000</td>\n",
       "      <td>This is such an urgent design problem; kudos t...</td>\n",
       "      <td>0.0</td>\n",
       "      <td>this is such an urgent design problem kudos to...</td>\n",
       "    </tr>\n",
       "    <tr>\n",
       "      <th>3</th>\n",
       "      <td>59855</td>\n",
       "      <td>0.000000</td>\n",
       "      <td>Is this something I'll be able to install on m...</td>\n",
       "      <td>0.0</td>\n",
       "      <td>is this something ill be able to install on my...</td>\n",
       "    </tr>\n",
       "    <tr>\n",
       "      <th>4</th>\n",
       "      <td>59856</td>\n",
       "      <td>0.893617</td>\n",
       "      <td>haha you guys are a bunch of losers.</td>\n",
       "      <td>1.0</td>\n",
       "      <td>haha you guys are a bunch of losers</td>\n",
       "    </tr>\n",
       "  </tbody>\n",
       "</table>\n",
       "</div>"
      ],
      "text/plain": [
       "      id    target                                       comment_text  truth  \\\n",
       "0  59848  0.000000  This is so cool. It's like, 'would you want yo...    0.0   \n",
       "1  59849  0.000000  Thank you!! This would make my life a lot less...    0.0   \n",
       "2  59852  0.000000  This is such an urgent design problem; kudos t...    0.0   \n",
       "3  59855  0.000000  Is this something I'll be able to install on m...    0.0   \n",
       "4  59856  0.893617               haha you guys are a bunch of losers.    1.0   \n",
       "\n",
       "                                           InputData  \n",
       "0  this is so cool its like would you want your m...  \n",
       "1  thank you this would make my life a lot less a...  \n",
       "2  this is such an urgent design problem kudos to...  \n",
       "3  is this something ill be able to install on my...  \n",
       "4                haha you guys are a bunch of losers  "
      ]
     },
     "execution_count": 5,
     "metadata": {},
     "output_type": "execute_result"
    }
   ],
   "source": [
    "toxic_comments_df['InputData'] = toxic_comments_df['comment_text'].str.replace('[{}]'.format(string.punctuation), '')\n",
    "toxic_comments_df['InputData'] = toxic_comments_df['InputData'].apply(lambda x: \" \".join([ word.lower() if word[0].isalpha() else \"\"  for word in str(x).split()]))\n",
    "\n",
    "toxic_comments_df.head()"
   ]
  },
  {
   "cell_type": "code",
   "execution_count": 6,
   "metadata": {},
   "outputs": [
    {
     "name": "stdout",
     "output_type": "stream",
     "text": [
      "# of features 3929\n"
     ]
    }
   ],
   "source": [
    "vectorizerInput = sk_text.CountVectorizer(#max_features = 10000,\n",
    "                             min_df=.001, \n",
    "                             #max_df=.75,\n",
    "                            stop_words=['id','truth']\n",
    "                            )\n",
    "matrix = vectorizerInput.fit_transform(toxic_comments_df.InputData.values)\n",
    "print(\"# of features\", len(vectorizerInput.get_feature_names()))\n"
   ]
  },
  {
   "cell_type": "code",
   "execution_count": 7,
   "metadata": {},
   "outputs": [
    {
     "name": "stdout",
     "output_type": "stream",
     "text": [
      "CPU times: user 16.3 s, sys: 7.08 s, total: 23.4 s\n",
      "Wall time: 21.4 s\n"
     ]
    }
   ],
   "source": [
    "%%time\n",
    "df_text = pd.DataFrame(matrix.todense(), index=toxic_comments_df.id, columns=vectorizerInput.get_feature_names()).astype('float32')\n",
    "\n",
    "dataFrameWithHashTagHandlesAndTruths = pd.merge(df_text,  toxic_comments_df[['id','truth']].copy(), on='id').astype('float32')\n"
   ]
  },
  {
   "cell_type": "code",
   "execution_count": 8,
   "metadata": {},
   "outputs": [
    {
     "name": "stdout",
     "output_type": "stream",
     "text": [
      "(80000, 3929)\n",
      "(80000,)\n",
      "(20000, 3929)\n",
      "(20000,)\n",
      "CPU times: user 2.51 s, sys: 1.14 s, total: 3.65 s\n",
      "Wall time: 3.74 s\n"
     ]
    }
   ],
   "source": [
    "%%time\n",
    "X = dataFrameWithHashTagHandlesAndTruths.drop(['id','truth'], axis=1)\n",
    "y = dataFrameWithHashTagHandlesAndTruths.truth.values\n",
    "\n",
    "X_train, X_test, y_train, y_test = train_test_split(X, y, test_size=0.2, random_state=4)\n",
    "\n",
    "print(X_train.shape)\n",
    "print(y_train.shape)\n",
    "print(X_test.shape)\n",
    "print(y_test.shape)"
   ]
  },
  {
   "cell_type": "markdown",
   "metadata": {},
   "source": [
    "## Logistic Regression ##"
   ]
  },
  {
   "cell_type": "code",
   "execution_count": null,
   "metadata": {
    "scrolled": true
   },
   "outputs": [],
   "source": [
    "%%time\n",
    "solvers = ['newton-cg', 'lbfgs', 'liblinear', 'sag', 'saga']\n",
    "best_scores = []\n",
    "best_models = []\n",
    "for current_solver in solvers:\n",
    "        logreg = LogisticRegression(solver=current_solver)\n",
    "        logreg.fit(X_train, y_train)\n",
    "        y_pred = logreg.predict(X_test)\n",
    "        best_scores.append(metrics.f1_score(y_test, y_pred, average='weighted'))\n",
    "        best_models.append(current_solver)\n",
    "        \n",
    "\n",
    "best_solver = max(best_scores)\n",
    "\n",
    "print('Best Scores:')    \n",
    "print(best_scores)\n",
    "print()\n",
    "print('Best Models:')\n",
    "print(best_models)\n",
    "print()\n",
    "print('Overall Best Score:')\n",
    "print(best_solver)\n",
    "\n"
   ]
  },
  {
   "cell_type": "code",
   "execution_count": 9,
   "metadata": {},
   "outputs": [
    {
     "name": "stdout",
     "output_type": "stream",
     "text": [
      "0.9310666074332825\n",
      "0.94175\n",
      "0.9328402646445451\n",
      "[[18407   256]\n",
      " [  909   428]]\n",
      "CPU times: user 7min 4s, sys: 44.5 s, total: 7min 49s\n",
      "Wall time: 5min 11s\n"
     ]
    }
   ],
   "source": [
    "%%time\n",
    "##best solver is newton-cg\n",
    "logreg = LogisticRegression(solver=best_solver)\n",
    "logreg.fit(X_train, y_train)\n",
    "y_pred_logreg = logreg.predict(X_test)\n",
    "print(metrics.precision_score(y_test, y_pred_logreg, average= 'weighted'))\n",
    "print(metrics.recall_score(y_test, y_pred_logreg, average= 'weighted'))\n",
    "print(metrics.f1_score(y_test, y_pred_logreg, average= 'weighted'))\n",
    "print(metrics.confusion_matrix(y_test, y_pred_logreg))"
   ]
  },
  {
   "cell_type": "code",
   "execution_count": 11,
   "metadata": {},
   "outputs": [
    {
     "data": {
      "text/plain": [
       "['logreg.joblib']"
      ]
     },
     "execution_count": 11,
     "metadata": {},
     "output_type": "execute_result"
    }
   ],
   "source": [
    "dump(logreg, 'LogisticRegression.joblib') "
   ]
  },
  {
   "cell_type": "markdown",
   "metadata": {},
   "source": [
    "## Decision Tree ##"
   ]
  },
  {
   "cell_type": "code",
   "execution_count": 12,
   "metadata": {},
   "outputs": [
    {
     "name": "stdout",
     "output_type": "stream",
     "text": [
      "0.9175298704711424\n",
      "0.9195\n",
      "0.9184933530352853\n",
      "[[17893   770]\n",
      " [  840   497]]\n",
      "CPU times: user 6min 12s, sys: 2.64 s, total: 6min 15s\n",
      "Wall time: 6min 24s\n"
     ]
    }
   ],
   "source": [
    "%%time\n",
    "clf = tree.DecisionTreeClassifier()\n",
    "clf = clf.fit(X_train, y_train)\n",
    "y_pred_clf = clf.predict(X_test)\n",
    "\n",
    "print(metrics.precision_score(y_test, y_pred_clf, average= 'weighted'))\n",
    "print(metrics.recall_score(y_test, y_pred_clf, average= 'weighted'))\n",
    "print(metrics.f1_score(y_test, y_pred_clf, average= 'weighted'))\n",
    "print(metrics.confusion_matrix(y_test, y_pred_clf, labels=[0, 1]))"
   ]
  },
  {
   "cell_type": "code",
   "execution_count": 14,
   "metadata": {},
   "outputs": [
    {
     "data": {
      "text/plain": [
       "['decisionTree.joblib']"
      ]
     },
     "execution_count": 14,
     "metadata": {},
     "output_type": "execute_result"
    }
   ],
   "source": [
    "dump(clf, 'DecisionTree.joblib') "
   ]
  },
  {
   "cell_type": "markdown",
   "metadata": {},
   "source": [
    "## Neural Network ##"
   ]
  },
  {
   "cell_type": "code",
   "execution_count": 19,
   "metadata": {},
   "outputs": [
    {
     "name": "stderr",
     "output_type": "stream",
     "text": [
      "/Users/jashmit/anaconda3/lib/python3.7/site-packages/sklearn/preprocessing/data.py:625: DataConversionWarning: Data with input dtype float32 were all converted to float64 by StandardScaler.\n",
      "  return self.partial_fit(X, y)\n",
      "/Users/jashmit/anaconda3/lib/python3.7/site-packages/ipykernel_launcher.py:5: DataConversionWarning: Data with input dtype float32 were all converted to float64 by StandardScaler.\n",
      "  \"\"\"\n",
      "/Users/jashmit/anaconda3/lib/python3.7/site-packages/ipykernel_launcher.py:6: DataConversionWarning: Data with input dtype float32 were all converted to float64 by StandardScaler.\n",
      "  \n"
     ]
    }
   ],
   "source": [
    "from sklearn.preprocessing import StandardScaler\n",
    "from sklearn.neural_network import MLPClassifier\n",
    "scaler = StandardScaler()\n",
    "scaler.fit(X_train)\n",
    "X_train_nn = scaler.transform(X_train)\n",
    "X_test_nn = scaler.transform(X_test)"
   ]
  },
  {
   "cell_type": "code",
   "execution_count": 20,
   "metadata": {},
   "outputs": [
    {
     "name": "stdout",
     "output_type": "stream",
     "text": [
      "0.9283957231860063\n",
      "0.9389\n",
      "0.9313981771975992\n",
      "[[18328   335]\n",
      " [  887   450]]\n",
      "CPU times: user 48min 20s, sys: 3min 2s, total: 51min 22s\n",
      "Wall time: 26min 31s\n"
     ]
    }
   ],
   "source": [
    "%%time\n",
    "mlp = MLPClassifier(hidden_layer_sizes=(500,500), solver = 'adam')\n",
    "mlp.fit(X_train_nn,y_train)\n",
    "y_pred_mlp = mlp.predict(X_test_nn)\n",
    "\n",
    "print(metrics.precision_score(y_test, y_pred_mlp, average= 'weighted'))\n",
    "print(metrics.recall_score(y_test, y_pred_mlp, average= 'weighted'))\n",
    "print(metrics.f1_score(y_test, y_pred_mlp, average= 'weighted'))\n",
    "print(metrics.confusion_matrix(y_test, y_pred_mlp, labels=[0, 1]))"
   ]
  },
  {
   "cell_type": "code",
   "execution_count": 93,
   "metadata": {},
   "outputs": [
    {
     "name": "stdout",
     "output_type": "stream",
     "text": [
      "              precision    recall  f1-score   support\n",
      "\n",
      "         0.0       0.95      0.98      0.97     18663\n",
      "         1.0       0.57      0.34      0.42      1337\n",
      "\n",
      "   micro avg       0.94      0.94      0.94     20000\n",
      "   macro avg       0.76      0.66      0.70     20000\n",
      "weighted avg       0.93      0.94      0.93     20000\n",
      "\n"
     ]
    }
   ],
   "source": [
    "print(metrics.classification_report(y_test, y_pred_mlp))"
   ]
  },
  {
   "cell_type": "code",
   "execution_count": 21,
   "metadata": {},
   "outputs": [
    {
     "data": {
      "text/plain": [
       "['MLP.joblib']"
      ]
     },
     "execution_count": 21,
     "metadata": {},
     "output_type": "execute_result"
    }
   ],
   "source": [
    "dump(mlp, 'MLP.joblib') "
   ]
  },
  {
   "cell_type": "markdown",
   "metadata": {},
   "source": [
    "## Gaussian Naive Bayes #"
   ]
  },
  {
   "cell_type": "code",
   "execution_count": 15,
   "metadata": {},
   "outputs": [
    {
     "name": "stdout",
     "output_type": "stream",
     "text": [
      "0.9097845061901335\n",
      "0.38455\n",
      "0.4919719076099039\n",
      "[[ 6565 12098]\n",
      " [  211  1126]]\n"
     ]
    }
   ],
   "source": [
    "%%time\n",
    "from sklearn.naive_bayes import GaussianNB\n",
    "gnb = GaussianNB()\n",
    "y_pred_gaus = gnb.fit(X_train, y_train).predict(X_test)\n",
    "\n",
    "print(metrics.precision_score(y_test, y_pred_gaus, average= 'weighted'))\n",
    "print(metrics.recall_score(y_test, y_pred_gaus, average= 'weighted'))\n",
    "print(metrics.f1_score(y_test, y_pred_gaus, average= 'weighted'))\n",
    "print(metrics.confusion_matrix(y_test, y_pred_gaus, labels=[0, 1]))"
   ]
  },
  {
   "cell_type": "code",
   "execution_count": 16,
   "metadata": {},
   "outputs": [
    {
     "data": {
      "text/plain": [
       "['GAUS.joblib']"
      ]
     },
     "execution_count": 16,
     "metadata": {},
     "output_type": "execute_result"
    }
   ],
   "source": [
    "dump(gnb, 'Gaussian.joblib') "
   ]
  },
  {
   "cell_type": "markdown",
   "metadata": {},
   "source": [
    "## Bernoulli Naive Bayes ##"
   ]
  },
  {
   "cell_type": "code",
   "execution_count": 17,
   "metadata": {},
   "outputs": [
    {
     "name": "stdout",
     "output_type": "stream",
     "text": [
      "0.9204199260431624\n",
      "0.91435\n",
      "0.9172134116975269\n",
      "[[17702   961]\n",
      " [  752   585]]\n"
     ]
    }
   ],
   "source": [
    "%%time\n",
    "from sklearn.naive_bayes import BernoulliNB\n",
    "bern = BernoulliNB()\n",
    "bern.fit(X_train, y_train)\n",
    "y_pred_bern=bern.predict(X_test)\n",
    "\n",
    "print(metrics.precision_score(y_test, y_pred_bern, average= 'weighted'))\n",
    "print(metrics.recall_score(y_test, y_pred_bern, average= 'weighted'))\n",
    "print(metrics.f1_score(y_test, y_pred_bern, average= 'weighted'))\n",
    "print(metrics.confusion_matrix(y_test, y_pred_bern, labels=[0, 1]))"
   ]
  },
  {
   "cell_type": "code",
   "execution_count": 18,
   "metadata": {},
   "outputs": [
    {
     "data": {
      "text/plain": [
       "['BERN.joblib']"
      ]
     },
     "execution_count": 18,
     "metadata": {},
     "output_type": "execute_result"
    }
   ],
   "source": [
    "dump(bern, 'Bernoulli.joblib') "
   ]
  },
  {
   "cell_type": "markdown",
   "metadata": {},
   "source": [
    "## Multinomial Naive Bayes #"
   ]
  },
  {
   "cell_type": "code",
   "execution_count": 86,
   "metadata": {},
   "outputs": [
    {
     "name": "stdout",
     "output_type": "stream",
     "text": [
      "0.9204199260431624\n",
      "0.91435\n",
      "0.9172134116975269\n",
      "[[17702   961]\n",
      " [  752   585]]\n",
      "CPU times: user 7.06 s, sys: 1.66 s, total: 8.73 s\n",
      "Wall time: 7.88 s\n"
     ]
    }
   ],
   "source": [
    "%%time\n",
    "from sklearn.naive_bayes import MultinomialNB\n",
    "multi = MultinomialNB(alpha=1.0, class_prior=None, fit_prior=True)\n",
    "multi.fit(X_train, y_train)\n",
    "y_pred_multi=bern.predict(X_test)\n",
    "\n",
    "print(metrics.precision_score(y_test, y_pred_multi, average= 'weighted'))\n",
    "print(metrics.recall_score(y_test, y_pred_multi, average= 'weighted'))\n",
    "print(metrics.f1_score(y_test, y_pred_multi, average= 'weighted'))\n",
    "print(metrics.confusion_matrix(y_test, y_pred_multi, labels=[0, 1]))"
   ]
  },
  {
   "cell_type": "code",
   "execution_count": 87,
   "metadata": {},
   "outputs": [
    {
     "data": {
      "text/plain": [
       "['Multinomial.joblib']"
      ]
     },
     "execution_count": 87,
     "metadata": {},
     "output_type": "execute_result"
    }
   ],
   "source": [
    "dump(bern, 'Multinomial.joblib') "
   ]
  },
  {
   "cell_type": "markdown",
   "metadata": {},
   "source": [
    "## Read in models to calculate F1 Scores ##"
   ]
  },
  {
   "cell_type": "code",
   "execution_count": 89,
   "metadata": {},
   "outputs": [
    {
     "name": "stdout",
     "output_type": "stream",
     "text": [
      "F1 Scores [0.9328402646445451, 0.9184933530352853, 0.9057324071885223, 0.9172134116975269, 0.9172134116975269, 0.4919719076099039]\n"
     ]
    }
   ],
   "source": [
    "f1_scores=[]\n",
    "model_files=['LogisticRegression.joblib','DecisionTree.joblib','MLP.joblib','Bernoulli.joblib','Multinomial.joblib','Gaussian.joblib']\n",
    "for model in model_files:\n",
    "    y_pred = load(model).predict(X_test)\n",
    "    f1_scores.append(metrics.f1_score(y_test, y_pred, average= 'weighted'))\n",
    "print(\"F1 Scores\",f1_scores)\n"
   ]
  },
  {
   "cell_type": "markdown",
   "metadata": {},
   "source": [
    "## Plot F1-Scores ##"
   ]
  },
  {
   "cell_type": "code",
   "execution_count": 91,
   "metadata": {},
   "outputs": [
    {
     "data": {
      "image/png": "[encoded data removed]",
      "text/plain": [
       "<Figure size 640x480 with 1 Axes>"
      ]
     },
     "metadata": {},
     "output_type": "display_data"
    }
   ],
   "source": [
    "plt.rcdefaults()\n",
    "fig, ax = plt.subplots()\n",
    "y_pos_on_graph = np.arange(len(model_files))\n",
    "ax.barh(y_pos_on_graph, f1_scores,align='center',color='green', ecolor='black')\n",
    "ax.set_yticks(y_pos_on_graph)\n",
    "ax.set_yticklabels(['Logistic Regression','DecisionTree','Multi-Layer Perceptron','Gaussian Naive Bayes','Multinomial Naive Bayes','Bernoulli Naive Bayes'])\n",
    "ax.invert_yaxis() \n",
    "ax.set_xlabel('F1-Measure')\n",
    "ax.set_title('Model F1-Measure')\n",
    "\n",
    "plt.show()"
   ]
  },
  {
   "cell_type": "markdown",
   "metadata": {},
   "source": [
    "## Load in models to show ROC-AUC Curve ## "
   ]
  },
  {
   "cell_type": "code",
   "execution_count": 92,
   "metadata": {},
   "outputs": [
    {
     "data": {
      "image/png": "[encoded data removed]",
      "text/plain": [
       "<Figure size 640x480 with 1 Axes>"
      ]
     },
     "metadata": {},
     "output_type": "display_data"
    }
   ],
   "source": [
    "for model in model_files:\n",
    "    y_pred_proba = load(model).predict_proba(X_test)[::,1]\n",
    "    fpr, tpr, _ = metrics.roc_curve(y_test,  y_pred_proba)\n",
    "    auc = metrics.roc_auc_score(y_test, y_pred_proba)\n",
    "    plt.plot(fpr,tpr,label=model.split('.')[0]+\", area=%.3f\"%auc)\n",
    "    \n",
    "plt.plot([0, 1], [0, 1], color='navy', lw=2, linestyle='--')\n",
    "\n",
    "plt.legend(loc=4)\n",
    "plt.show()"
   ]
  },
  {
   "cell_type": "markdown",
   "metadata": {},
   "source": [
    "# Output predictions #"
   ]
  },
  {
   "cell_type": "code",
   "execution_count": null,
   "metadata": {},
   "outputs": [],
   "source": [
    "toxic_comments_df_test = pd.read_csv('test.csv')\n",
    "matrix = vectorizerInput.transform(toxic_comments_df_test.comment_text.values)\n",
    "df_text = pd.DataFrame(matrix.todense(), index=toxic_comments_df_test.id, columns=vectorizerInput.get_feature_names()).astype('float32')\n",
    "y_pred_test = logreg.predict(df_text)"
   ]
  },
  {
   "cell_type": "code",
   "execution_count": null,
   "metadata": {},
   "outputs": [],
   "source": [
    "#Save results to output file\n",
    "toxic_comments_df_test['prediction'] = y_pred_test\n",
    "#toxic_comments_df_test.drop(['comment_text'],axis=1).to_csv('submission.csv')"
   ]
  },
  {
   "cell_type": "code",
   "execution_count": null,
   "metadata": {},
   "outputs": [],
   "source": []
  },
  {
   "cell_type": "code",
   "execution_count": null,
   "metadata": {},
   "outputs": [],
   "source": []
  }
 ],
 "metadata": {
  "kernelspec": {
   "display_name": "Python 3",
   "language": "python",
   "name": "python3"
  },
  "language_info": {
   "codemirror_mode": {
    "name": "ipython",
    "version": 3
   },
   "file_extension": ".py",
   "mimetype": "text/x-python",
   "name": "python",
   "nbconvert_exporter": "python",
   "pygments_lexer": "ipython3",
   "version": "3.7.1"
  }
 },
 "nbformat": 4,
 "nbformat_minor": 2
}
