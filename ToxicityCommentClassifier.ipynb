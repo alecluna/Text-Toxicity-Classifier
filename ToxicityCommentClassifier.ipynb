{
 "cells": [
  {
   "cell_type": "code",
   "execution_count": null,
   "metadata": {},
   "outputs": [],
   "source": [
    "import pandas as pd\n",
    "import numpy as np\n",
    "import sklearn.feature_extraction.text as sk_text\n",
    "import string\n",
    "from sklearn.model_selection import train_test_split\n",
    "\n",
    "from sklearn import tree, metrics    # Decision Tree\n",
    "from sklearn.linear_model import LogisticRegression # LogisticRegression\n"
   ]
  },
  {
   "cell_type": "code",
   "execution_count": null,
   "metadata": {},
   "outputs": [],
   "source": [
    "%%time\n",
    "toxic_comments_df = pd.read_csv('train.csv')\n",
    "toxic_comments_df =  toxic_comments_df.drop(['article_id','parent_id'],axis=1)\n",
    "toxic_comments_df = toxic_comments_df.head(10000)"
   ]
  },
  {
   "cell_type": "code",
   "execution_count": null,
   "metadata": {},
   "outputs": [],
   "source": [
    "toxic_comments_df['truth'] = toxic_comments_df.target.apply(lambda x: 1 if x>=.5 else 0 )\n",
    "toxic_comments_df.head()\n"
   ]
  },
  {
   "cell_type": "code",
   "execution_count": null,
   "metadata": {
    "scrolled": true
   },
   "outputs": [],
   "source": [
    "toxic_comments_df['InputData'] = toxic_comments_df['comment_text'].str.replace('[{}]'.format(string.punctuation), '')\n",
    "toxic_comments_df['InputData'] = toxic_comments_df['InputData'].apply(lambda x: \" \".join([ word if word[0].isalpha() else \"\"  for word in str(x).split()]))\n",
    "\n",
    "toxic_comments_df.head()"
   ]
  },
  {
   "cell_type": "code",
   "execution_count": null,
   "metadata": {},
   "outputs": [],
   "source": [
    "prepareSKText = pd.DataFrame({'User_id': toxic_comments_df.id, 'All_words': toxic_comments_df.InputData})\n",
    "\n",
    "vectorizerInput = sk_text.CountVectorizer(#max_features = 10000,\n",
    "                             min_df=.001, \n",
    "                             #max_df=.75,\n",
    "                            stop_words=['id','truth']\n",
    "                            )\n",
    "matrix = vectorizerInput.fit_transform(prepareSKText.All_words.values)\n",
    "print(len(vectorizerInput.get_feature_names()))\n"
   ]
  },
  {
   "cell_type": "code",
   "execution_count": null,
   "metadata": {},
   "outputs": [],
   "source": [
    "%%time\n",
    "tdidf = matrix.toarray()\n",
    "df_text = pd.DataFrame(matrix.todense(), index=toxic_comments_df.id, columns=vectorizerInput.get_feature_names())\n",
    "new = toxic_comments_df[['id','truth']].copy()\n",
    "dataFrameWithHashTagHandlesAndTruths = pd.merge(df_text, new, on='id')\n"
   ]
  },
  {
   "cell_type": "code",
   "execution_count": null,
   "metadata": {},
   "outputs": [],
   "source": [
    "%%time\n",
    "X = dataFrameWithHashTagHandlesAndTruths.drop(['id','truth'], axis=1)\n",
    "y = dataFrameWithHashTagHandlesAndTruths.truth.values\n",
    "\n",
    "X_train, X_test, y_train, y_test = train_test_split(X, y, test_size=0.2, random_state=4)\n",
    "\n",
    "print(X_train.shape)\n",
    "print(y_train.shape)\n",
    "print(X_test.shape)\n",
    "print(y_test.shape)"
   ]
  },
  {
   "cell_type": "markdown",
   "metadata": {},
   "source": [
    "## Logistic Regression ##"
   ]
  },
  {
   "cell_type": "code",
   "execution_count": null,
   "metadata": {
    "scrolled": true
   },
   "outputs": [],
   "source": [
    "%%time\n",
    "solvers = ['newton-cg', 'lbfgs', 'liblinear', 'sag', 'saga']\n",
    "best_scores = []\n",
    "best_models = []\n",
    "for current_solver in solvers:\n",
    "        logreg = LogisticRegression(solver=current_solver)\n",
    "        logreg.fit(X_train, y_train)\n",
    "        y_pred = logreg.predict(X_test)\n",
    "        best_scores.append(metrics.f1_score(y_test, y_pred, average='weighted'))\n",
    "        best_models.append(current_solver)\n",
    "        \n",
    "\n",
    "best_solver = max(best_scores)\n",
    "\n",
    "print('Best Scores:')    \n",
    "print(best_scores)\n",
    "print()\n",
    "print('Best Models:')\n",
    "print(best_models)\n",
    "print()\n",
    "print('Overall Best Score:')\n",
    "print(best_solver)\n",
    "\n",
    "print()\n",
    "\n",
    "print(metrics.precision_score(y_test, y_pred, average= 'weighted'))\n",
    "print(metrics.recall_score(y_test, y_pred, average= 'weighted'))\n",
    "print(metrics.f1_score(y_test, y_pred, average= 'weighted'))\n",
    "print(metrics.confusion_matrix(y_test, y_pred))\n"
   ]
  },
  {
   "cell_type": "code",
   "execution_count": null,
   "metadata": {},
   "outputs": [],
   "source": [
    "best_models"
   ]
  },
  {
   "cell_type": "markdown",
   "metadata": {},
   "source": [
    "## Decision Tree ##"
   ]
  },
  {
   "cell_type": "code",
   "execution_count": null,
   "metadata": {},
   "outputs": [],
   "source": [
    "%%time\n",
    "## Decision tree boilerplate\n",
    "clf = tree.DecisionTreeClassifier()\n",
    "clf = clf.fit(X_train, y_train)\n",
    "y_pred = clf.predict(X_test)\n",
    "\n",
    "print(metrics.precision_score(y_test, y_pred, average= 'weighted'))\n",
    "print(metrics.recall_score(y_test, y_pred, average= 'weighted'))\n",
    "print(metrics.f1_score(y_test, y_pred, average= 'weighted'))\n",
    "print(metrics.confusion_matrix(y_test, y_pred, labels=[0, 1]))"
   ]
  },
  {
   "cell_type": "code",
   "execution_count": null,
   "metadata": {},
   "outputs": [],
   "source": [
    "print(vectorizerInput.get_feature_names())"
   ]
  },
  {
   "cell_type": "code",
   "execution_count": null,
   "metadata": {},
   "outputs": [],
   "source": []
  }
 ],
 "metadata": {
  "kernelspec": {
   "display_name": "Python 3",
   "language": "python",
   "name": "python3"
  },
  "language_info": {
   "codemirror_mode": {
    "name": "ipython",
    "version": 3
   },
   "file_extension": ".py",
   "mimetype": "text/x-python",
   "name": "python",
   "nbconvert_exporter": "python",
   "pygments_lexer": "ipython3",
   "version": "3.7.1"
  }
 },
 "nbformat": 4,
 "nbformat_minor": 2
}
